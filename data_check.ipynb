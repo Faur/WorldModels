{
 "cells": [
  {
   "cell_type": "code",
   "execution_count": 1,
   "metadata": {},
   "outputs": [],
   "source": [
    "## Useful Jupyter setup commands\n",
    "%load_ext autoreload\n",
    "%autoreload 2\n",
    "%matplotlib inline\n",
    "# %matplotlib notebook\n"
   ]
  },
  {
   "cell_type": "code",
   "execution_count": 2,
   "metadata": {},
   "outputs": [
    {
     "data": {
      "text/plain": [
       "'3.5.5 |Anaconda, Inc.| (default, Apr  7 2018, 04:52:34) [MSC v.1900 64 bit (AMD64)]'"
      ]
     },
     "execution_count": 2,
     "metadata": {},
     "output_type": "execute_result"
    }
   ],
   "source": [
    "import sys\n",
    "sys.version"
   ]
  },
  {
   "cell_type": "code",
   "execution_count": 3,
   "metadata": {},
   "outputs": [
    {
     "name": "stderr",
     "output_type": "stream",
     "text": [
      "Using TensorFlow backend.\n"
     ]
    }
   ],
   "source": [
    "#python 02_train_vae.py --new_model\n",
    "\n",
    "import matplotlib.pyplot as plt\n",
    "from IPython.display import clear_output\n",
    "\n",
    "from vae.arch import VAE\n",
    "import argparse\n",
    "import numpy as np\n",
    "import config\n",
    "\n"
   ]
  },
  {
   "cell_type": "code",
   "execution_count": 4,
   "metadata": {},
   "outputs": [
    {
     "name": "stdout",
     "output_type": "stream",
     "text": [
      "Building batch 0...\n",
      "Found car_racing...current data size = 200 episodes\n"
     ]
    }
   ],
   "source": [
    "start_batch = 0\n",
    "max_batch = 9\n",
    "\n",
    "vae = VAE()\n",
    "\n",
    "# try:\n",
    "#     vae.set_weights('./vae/weights.h5')\n",
    "# except:\n",
    "#     print(\"Either set --new_model or ensure ./vae/weights.h5 exists\")\n",
    "#     raise\n",
    "\n",
    "for batch_num in range(start_batch, max_batch + 1):\n",
    "    \"\"\" Train on batch 0, then on batch {0, 1}, then on batches {0,1,2} ...\"\"\"\n",
    "    print('Building batch {}...'.format(batch_num))\n",
    "    first_item = True\n",
    "\n",
    "    for env_name in config.train_envs:\n",
    "        try:\n",
    "            new_data = np.load('./data/obs_data_' + env_name + '_' + str(batch_num) + '.npy')\n",
    "            data = new_data\n",
    "            first_item = False\n",
    "            print('Found {}...current data size = {} episodes'.format(env_name, len(data)))\n",
    "        except:\n",
    "            pass\n",
    "\n",
    "    if first_item == False: # i.e. data has been found for this batch number\n",
    "        data = np.array([item for obs in data for item in obs])\n",
    "        # vae.train(data)\n",
    "        \n",
    "\n",
    "    else:\n",
    "        print('no data found for batch number {}'.format(batch_num))\n",
    "        \n",
    "    break\n",
    "\n",
    "# if __name__ == \"__main__\":\n",
    "#     parser = argparse.ArgumentParser(description=('Train VAE'))\n",
    "#     parser.add_argument('--start_batch', type=int, default = 9, help='The start batch number')\n",
    "#     parser.add_argument('--max_batch', type=int, default = 9, help='The max batch number')\n",
    "#     args = parser.parse_args()\n",
    "\n",
    "#     main(args)\n"
   ]
  },
  {
   "cell_type": "code",
   "execution_count": 18,
   "metadata": {
    "scrolled": false
   },
   "outputs": [
    {
     "name": "stdout",
     "output_type": "stream",
     "text": [
      "hi\n",
      " 9 299done\n"
     ]
    }
   ],
   "source": [
    "print('hi')\n",
    "el = 300\n",
    "\n",
    "import imageio\n",
    "fig, ax = plt.subplots(1,2)\n",
    "images = []\n",
    "# for i in range(len(data)):\n",
    "for i in range(10):\n",
    "#     images = []\n",
    "#     for j in range(el):\n",
    "#         print('\\r', i, j, end='')\n",
    "#         images.append((data[i*el + j] * 255).astype(np.uint8))\n",
    "#     imageio.mimsave('./videos/car_racing_'+str(i)+'.gif', images)\n",
    "\n",
    "    ax[0].imshow(data[i])\n",
    "    ax[0].axis('off')\n",
    "    ax[1].imshow(pred[i])\n",
    "    ax[1].axis('off')\n",
    "\n",
    "print('\\ndone')\n"
   ]
  },
  {
   "cell_type": "code",
   "execution_count": null,
   "metadata": {},
   "outputs": [],
   "source": []
  },
  {
   "cell_type": "code",
   "execution_count": null,
   "metadata": {},
   "outputs": [],
   "source": []
  },
  {
   "cell_type": "code",
   "execution_count": null,
   "metadata": {},
   "outputs": [],
   "source": []
  },
  {
   "cell_type": "code",
   "execution_count": null,
   "metadata": {},
   "outputs": [],
   "source": []
  },
  {
   "cell_type": "code",
   "execution_count": null,
   "metadata": {},
   "outputs": [],
   "source": []
  }
 ],
 "metadata": {
  "kernelspec": {
   "display_name": "Python 3",
   "language": "python",
   "name": "python3"
  },
  "language_info": {
   "codemirror_mode": {
    "name": "ipython",
    "version": 3
   },
   "file_extension": ".py",
   "mimetype": "text/x-python",
   "name": "python",
   "nbconvert_exporter": "python",
   "pygments_lexer": "ipython3",
   "version": "3.5.5"
  }
 },
 "nbformat": 4,
 "nbformat_minor": 2
}
